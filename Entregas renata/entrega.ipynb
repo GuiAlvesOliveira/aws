{
 "cells": [
  {
   "cell_type": "markdown",
   "id": "8cb5f475",
   "metadata": {},
   "source": [
    " Importação de Bibliotecas\n"
   ]
  },
  {
   "cell_type": "code",
   "execution_count": 2,
   "id": "e06d2d2b",
   "metadata": {},
   "outputs": [],
   "source": [
    "import numpy as np\n",
    "import pandas as pd\n",
    "import matplotlib.pyplot as plt\n",
    "from sklearn.linear_model import LinearRegression  # Para validação\n",
    "from sklearn.metrics import r2_score, mean_squared_error"
   ]
  },
  {
   "cell_type": "markdown",
   "id": "d6324f4a",
   "metadata": {},
   "source": [
    " Carregamento e Pré-Processamento dos Dados"
   ]
  },
  {
   "cell_type": "code",
   "execution_count": 3,
   "id": "ca69d99c",
   "metadata": {},
   "outputs": [
    {
     "name": "stdout",
     "output_type": "stream",
     "text": [
      "Index(['cod_produto', 'cod_provedor', 'cod_categoria', 'dsc_produto',\n",
      "       'cod_corrida', 'dat_criacao', 'cod_companhia', 'num_preco',\n",
      "       'dat_atualizacao', 'dsc_carro', 'num_latitude_origem',\n",
      "       'num_longitude_origem', 'num_latitude_destino', 'num_longitude_destino',\n",
      "       'num_distancia_m_1', 'num_tempo_estimado_seg_1'],\n",
      "      dtype='object')\n"
     ]
    }
   ],
   "source": [
    "# Carrega os dados\n",
    "df = pd.read_csv('ML_Uber_dados_tratados2.csv')  \n",
    "\n",
    "df = df.dropna(subset=['num_distancia_m_1', 'num_preco'])\n",
    "\n",
    "\n",
    "X = df[['num_distancia_m_1', 'num_tempo_estimado_seg_1']]\n",
    "y = df['num_preco']\n",
    "\n",
    "print(df.columns)\n",
    "\n",
    "# Verifica se há dados suficientes\n",
    "if len(X) < 2:\n",
    "    raise ValueError(\"Dados insuficientes para regressão após limpeza.\")"
   ]
  },
  {
   "cell_type": "markdown",
   "id": "e2322e3a",
   "metadata": {},
   "source": [
    "Implementação Manual do Método dos Mínimos Quadrados"
   ]
  },
  {
   "cell_type": "code",
   "execution_count": 4,
   "id": "96b5d1d5",
   "metadata": {},
   "outputs": [
    {
     "name": "stdout",
     "output_type": "stream",
     "text": [
      "Coeficientes calculados (intercepto, inclinação): [4.04740054e+00 1.73841945e-03 9.77577408e-04]\n"
     ]
    }
   ],
   "source": [
    "# Adiciona coluna de 1s para o intercepto (formato matricial)\n",
    "X_matrix = np.c_[np.ones((len(X), 1)), X]  \n",
    "\n",
    "# Calcula coeficientes usando a equação normal: θ = (XᵀX)⁻¹Xᵀy\n",
    "try:\n",
    "    theta = np.linalg.inv(X_matrix.T @ X_matrix) @ X_matrix.T @ y  \n",
    "    print(f\"Coeficientes calculados (intercepto, inclinação): {theta.flatten()}\")\n",
    "except np.linalg.LinAlgError:\n",
    "    # Fallback para SVD se a matriz for singular\n",
    "    theta = np.linalg.pinv(X_matrix.T @ X_matrix) @ X_matrix.T @ y  \n",
    "    print(f\"Coeficientes via pseudoinversa (SVD): {theta.flatten()}\")"
   ]
  },
  {
   "cell_type": "markdown",
   "id": "400190b7",
   "metadata": {},
   "source": [
    "Função de Previsão"
   ]
  },
  {
   "cell_type": "code",
   "execution_count": 5,
   "id": "fe9c8b5d",
   "metadata": {},
   "outputs": [
    {
     "name": "stdout",
     "output_type": "stream",
     "text": [
      "Previsão de preço com base na distância em metros (M)\n",
      "Preço previsto para 5000.0 M: R$12.74\n"
     ]
    }
   ],
   "source": [
    "def predict_price(distance_m):\n",
    "    \"\"\"Prediz o preço com base no modelo treinado.\"\"\"\n",
    "    return theta[0] + theta[1] * distance_m \n",
    "\n",
    "#usuario coloca a distância em metros\n",
    "print(\"Previsão de preço com base na distância em metros (M)\")\n",
    "dist = float(input(\"Digite a distância em metros: \"))\n",
    "# Exemplo de uso:\n",
    "print(f\"Preço previsto para {dist} M: R${predict_price(dist):.2f}\")"
   ]
  },
  {
   "cell_type": "markdown",
   "id": "c5f4a43e",
   "metadata": {},
   "source": [
    "Validação com scikit-learn"
   ]
  },
  {
   "cell_type": "code",
   "execution_count": null,
   "id": "fd5a9c63",
   "metadata": {},
   "outputs": [
    {
     "name": "stdout",
     "output_type": "stream",
     "text": [
      "Validação sklearn - Intercepto: 4.047400537918232, Coeficiente: 0.0017384194458374862\n"
     ]
    }
   ],
   "source": [
    "# Comparação com sklearn para verificar correção\n",
    "model = LinearRegression().fit(X, y)\n",
    "print(f\"Validação sklearn - Intercepto: {model.intercept_}, Coeficiente: {model.coef_[0]}\")\n",
    "\n",
    "\n"
   ]
  },
  {
   "cell_type": "markdown",
   "id": "d868df15",
   "metadata": {},
   "source": [
    "Avaliação do Modelo"
   ]
  },
  {
   "cell_type": "code",
   "execution_count": 8,
   "id": "0f673098",
   "metadata": {},
   "outputs": [
    {
     "name": "stdout",
     "output_type": "stream",
     "text": [
      "Coeficiente de Determinação (R²): 0.752\n",
      "Erro Quadrático Médio (MSE): 243.642\n",
      "Equação do modelo: Preço = 4.05 + 0.00 * Distância\n"
     ]
    }
   ],
   "source": [
    "# Calcula os valores previstos\n",
    "y_pred = X_matrix @ theta\n",
    "\n",
    "# Cálculo de métricas\n",
    "r2 = r2_score(y, y_pred)\n",
    "mse = mean_squared_error(y, y_pred)\n",
    "\n",
    "print(f\"Coeficiente de Determinação (R²): {r2:.3f}\")\n",
    "print(f\"Erro Quadrático Médio (MSE): {mse:.3f}\")\n",
    "print(f\"Equação do modelo: Preço = {theta[0]:.2f} + {theta[1]:.2f} * Distância\")"
   ]
  }
 ],
 "metadata": {
  "kernelspec": {
   "display_name": "Python 3",
   "language": "python",
   "name": "python3"
  },
  "language_info": {
   "codemirror_mode": {
    "name": "ipython",
    "version": 3
   },
   "file_extension": ".py",
   "mimetype": "text/x-python",
   "name": "python",
   "nbconvert_exporter": "python",
   "pygments_lexer": "ipython3",
   "version": "3.13.3"
  }
 },
 "nbformat": 4,
 "nbformat_minor": 5
}
